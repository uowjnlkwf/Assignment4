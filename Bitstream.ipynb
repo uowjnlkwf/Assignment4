{
 "cells": [
  {
   "cell_type": "code",
   "execution_count": 42,
   "id": "43fe47e5",
   "metadata": {},
   "outputs": [],
   "source": [
    "from qiskit import QuantumCircuit, Aer, transpile\n",
    "import numpy as np\n",
    "from numpy import random\n",
    "import matplotlib.pyplot as plt\n",
    "\n",
    "backend = Aer.get_backend('qasm_simulator')"
   ]
  },
  {
   "cell_type": "code",
   "execution_count": 108,
   "id": "14a4715c",
   "metadata": {},
   "outputs": [],
   "source": [
    "def shor_encoding(bit, addErrors=False, protectErrors=True):\n",
    "    qc = QuantumCircuit(9,9)\n",
    "\n",
    "    if(bit == 1):\n",
    "        qc.x(0)\n",
    "\n",
    "    qc.cx(0,3)\n",
    "    qc.cx(0,6)\n",
    "\n",
    "    qc.h(0)\n",
    "    qc.h(3)\n",
    "    qc.h(6)\n",
    "\n",
    "    qc.cx(0,1)\n",
    "    qc.cx(3,4)\n",
    "    qc.cx(6,7)\n",
    "    qc.cx(0,2)\n",
    "    qc.cx(3,5)\n",
    "    qc.cx(6,8)\n",
    "\n",
    "    qc.barrier()\n",
    "\n",
    "    # Random corruption of qubit 0\n",
    "    # corruptedQubit = 0\n",
    "\n",
    "    # Random corruption of any single qubit\n",
    "    corruptedQubit = np.random.randint(0, 9)\n",
    "    \n",
    "    if(addErrors):\n",
    "        error = np.random.choice([qc.x, qc.y, qc.z])\n",
    "        error(corruptedQubit)\n",
    "\n",
    "    # for qubit in qc.qubits:\n",
    "    #    np.random.choice([qc.x, qc.y, qc.z])(qubit)\n",
    "    \n",
    "    qc.barrier()\n",
    "\n",
    "    qc.cx(0,1)\n",
    "    qc.cx(3,4)\n",
    "    qc.cx(6,7)\n",
    "    qc.cx(0,2)\n",
    "    qc.cx(3,5)\n",
    "    qc.cx(6,8)\n",
    "\n",
    "    qc.ccx(1,2,0)\n",
    "    qc.ccx(4,5,3)\n",
    "    qc.ccx(7,8,6)\n",
    "\n",
    "    qc.h(0)\n",
    "    qc.h(3)\n",
    "    qc.h(6)\n",
    "\n",
    "    qc.cx(0,3)\n",
    "    qc.cx(0,6)\n",
    "\n",
    "    qc.ccx(3,6,0)\n",
    "\n",
    "    qc.barrier()\n",
    "    \n",
    "    if(not protectErrors):\n",
    "        error(corruptedQubit)\n",
    "    \n",
    "    qc.measure(0, 0)\n",
    "\n",
    "    job = backend.run(transpile(qc, backend))\n",
    "    return job.result().get_counts(qc)"
   ]
  },
  {
   "cell_type": "code",
   "execution_count": 109,
   "id": "c0adaaec",
   "metadata": {},
   "outputs": [],
   "source": [
    "def string_to_binary(string):\n",
    "    binary = ''.join(format(ord(char), 'b') for char in string)\n",
    "    return binary\n",
    "\n",
    "def binary_to_string(binary):\n",
    "    chunks = [binary[i:i+7] for i in range(0, len(binary), 7)]\n",
    "    decimals = [int(chunk, 2) for chunk in chunks]\n",
    "    string = ''.join(chr(decimal) for decimal in decimals)\n",
    "    return string"
   ]
  },
  {
   "cell_type": "code",
   "execution_count": 117,
   "id": "6fb40677",
   "metadata": {},
   "outputs": [],
   "source": [
    "def string_demo(input_string, protectErrors=True):\n",
    "    print(\"Input String: \" + input_string)\n",
    "    \n",
    "    input_bitstream = [int(bit) for bit in string_to_binary(input_string)]\n",
    "    output_bitstream = ''\n",
    "    for bit in input_bitstream:\n",
    "        output = list(shor_encoding(bit, True, protectErrors).keys())[0]\n",
    "        output_bitstream += output[len(output)-1]\n",
    "\n",
    "    output_string = binary_to_string(output_bitstream)\n",
    "    print(\"Output String: \" + output_string)"
   ]
  },
  {
   "cell_type": "code",
   "execution_count": 118,
   "id": "24dc75e0",
   "metadata": {},
   "outputs": [
    {
     "name": "stdout",
     "output_type": "stream",
     "text": [
      "Input String: test\n",
      "Output String: test\n"
     ]
    }
   ],
   "source": [
    "string_demo(\"test\")"
   ]
  },
  {
   "cell_type": "code",
   "execution_count": 119,
   "id": "5ac46fde",
   "metadata": {},
   "outputs": [
    {
     "name": "stdout",
     "output_type": "stream",
     "text": [
      "Input String: test\n",
      "Output String: tEs|\n"
     ]
    }
   ],
   "source": [
    "string_demo(\"test\", False)"
   ]
  }
 ],
 "metadata": {
  "kernelspec": {
   "display_name": "Python 3 (ipykernel)",
   "language": "python",
   "name": "python3"
  },
  "language_info": {
   "codemirror_mode": {
    "name": "ipython",
    "version": 3
   },
   "file_extension": ".py",
   "mimetype": "text/x-python",
   "name": "python",
   "nbconvert_exporter": "python",
   "pygments_lexer": "ipython3",
   "version": "3.11.5"
  }
 },
 "nbformat": 4,
 "nbformat_minor": 5
}
